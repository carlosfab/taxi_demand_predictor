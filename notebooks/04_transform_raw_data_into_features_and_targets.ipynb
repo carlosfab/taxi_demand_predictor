{
 "cells": [
  {
   "cell_type": "markdown",
   "metadata": {},
   "source": [
    "# 📕 04 - Transform Raw Data into Features and Targets\n",
    "\n",
    "## Introduction\n",
    "\n",
    "After having diligently walked through the preliminary stages of data exploration, validation, and transformation in the first three notebooks, it's time to consolidate our understanding and build a more streamlined pipeline. \n",
    "\n",
    "In this notebook, our approach will evolve from a more exploratory stance to a structured one. Rather than manually handling the data transformations, we'll be leveraging functions defined in the `src` directory. This modular approach ensures reusability and better code management. While we previously dealt with a single month's data to ensure the feasibility of our methods, we'll now scale our operations to handle an entire year's worth of data. All of these transformations and data handling functions will be encapsulated in `data.py` located within the `src` directory.\n",
    "\n",
    "Our main goal remains consistent: transforming the raw data into a structured format, apt for machine learning, with clearly defined features and targets.\n",
    "\n",
    "## Notebook Overview:\n",
    "\n",
    "1. **Load an Entire Year Raw Data**: \n",
    "    - We commenced by loading the complete dataset for a year, a significant uptick in volume compared to our initial explorations with just a month's data. This step set the stage for the subsequent transformations and provided a comprehensive view of the data landscape.\n",
    "\n",
    "2. **Transform Raw Data into TS Data**: \n",
    "    - With the raw data at hand, our next step was to mold it into a time series format. This transformation is essential, especially considering our data's temporal nature. It allowed us to capture the sequential dependencies present in the data, making it primed for the next step.\n",
    "\n",
    "3. **Convert Time Series Data into Features and Target**: \n",
    "    - After having our time series data ready, we further broke it down into distinct features and targets. The features encapsulate the historical data, while the target represents the future values we aim to predict. This structure aligns with typical supervised machine learning tasks, making the data ready for model training and evaluation.\n",
    "\n",
    "4. **Save Tabular Data**: \n",
    "    - Finally, with our data in the desired format, we persisted it for future use. This not only ensures that we can reuse the processed data without redoing the steps but also aids in data versioning, making our experimentation reproducible.\n"
   ]
  },
  {
   "cell_type": "code",
   "execution_count": 1,
   "metadata": {},
   "outputs": [
    {
     "name": "stdout",
     "output_type": "stream",
     "text": [
      "File 2023-01 was already in local storage\n",
      "File 2023-02 was already in local storage\n",
      "File 2023-03 was already in local storage\n",
      "File 2023-04 was already in local storage\n",
      "File 2023-05 was already in local storage\n",
      "File 2023-06 was already in local storage\n",
      "File 2023-07 was already in local storage\n",
      "Downloading file 2023-08\n",
      "2023-08 file is not available\n",
      "Downloading file 2023-09\n",
      "2023-09 file is not available\n",
      "Downloading file 2023-10\n",
      "2023-10 file is not available\n",
      "Downloading file 2023-11\n",
      "2023-11 file is not available\n",
      "Downloading file 2023-12\n",
      "2023-12 file is not available\n"
     ]
    },
    {
     "data": {
      "text/html": [
       "<div>\n",
       "<style scoped>\n",
       "    .dataframe tbody tr th:only-of-type {\n",
       "        vertical-align: middle;\n",
       "    }\n",
       "\n",
       "    .dataframe tbody tr th {\n",
       "        vertical-align: top;\n",
       "    }\n",
       "\n",
       "    .dataframe thead th {\n",
       "        text-align: right;\n",
       "    }\n",
       "</style>\n",
       "<table border=\"1\" class=\"dataframe\">\n",
       "  <thead>\n",
       "    <tr style=\"text-align: right;\">\n",
       "      <th></th>\n",
       "      <th>pickup_datetime</th>\n",
       "      <th>pickup_location_id</th>\n",
       "    </tr>\n",
       "  </thead>\n",
       "  <tbody>\n",
       "    <tr>\n",
       "      <th>0</th>\n",
       "      <td>2023-01-01 00:32:10</td>\n",
       "      <td>161</td>\n",
       "    </tr>\n",
       "    <tr>\n",
       "      <th>1</th>\n",
       "      <td>2023-01-01 00:55:08</td>\n",
       "      <td>43</td>\n",
       "    </tr>\n",
       "    <tr>\n",
       "      <th>2</th>\n",
       "      <td>2023-01-01 00:25:04</td>\n",
       "      <td>48</td>\n",
       "    </tr>\n",
       "    <tr>\n",
       "      <th>3</th>\n",
       "      <td>2023-01-01 00:03:48</td>\n",
       "      <td>138</td>\n",
       "    </tr>\n",
       "    <tr>\n",
       "      <th>4</th>\n",
       "      <td>2023-01-01 00:10:29</td>\n",
       "      <td>107</td>\n",
       "    </tr>\n",
       "  </tbody>\n",
       "</table>\n",
       "</div>"
      ],
      "text/plain": [
       "      pickup_datetime  pickup_location_id\n",
       "0 2023-01-01 00:32:10                 161\n",
       "1 2023-01-01 00:55:08                  43\n",
       "2 2023-01-01 00:25:04                  48\n",
       "3 2023-01-01 00:03:48                 138\n",
       "4 2023-01-01 00:10:29                 107"
      ]
     },
     "execution_count": 1,
     "metadata": {},
     "output_type": "execute_result"
    }
   ],
   "source": [
    "%reload_ext autoreload\n",
    "%autoreload 2\n",
    "\n",
    "# import  libraries\n",
    "from src.paths import TRANSFORMED_DATA_DIR\n",
    "from src.data import load_raw_data\n",
    "from src.data import transform_raw_data_into_ts_data\n",
    "from src.data import transform_ts_data_into_features_and_target\n",
    "\n",
    "# load 2022 raw data\n",
    "rides = load_raw_data(year=2023)\n",
    "rides.head()"
   ]
  },
  {
   "cell_type": "code",
   "execution_count": 2,
   "metadata": {},
   "outputs": [
    {
     "name": "stderr",
     "output_type": "stream",
     "text": [
      "100%|██████████| 265/265 [00:05<00:00, 44.88it/s]\n"
     ]
    },
    {
     "data": {
      "text/html": [
       "<div>\n",
       "<style scoped>\n",
       "    .dataframe tbody tr th:only-of-type {\n",
       "        vertical-align: middle;\n",
       "    }\n",
       "\n",
       "    .dataframe tbody tr th {\n",
       "        vertical-align: top;\n",
       "    }\n",
       "\n",
       "    .dataframe thead th {\n",
       "        text-align: right;\n",
       "    }\n",
       "</style>\n",
       "<table border=\"1\" class=\"dataframe\">\n",
       "  <thead>\n",
       "    <tr style=\"text-align: right;\">\n",
       "      <th></th>\n",
       "      <th>pickup_hour</th>\n",
       "      <th>rides</th>\n",
       "      <th>pickup_location_id</th>\n",
       "    </tr>\n",
       "  </thead>\n",
       "  <tbody>\n",
       "    <tr>\n",
       "      <th>0</th>\n",
       "      <td>2023-01-01 00:00:00</td>\n",
       "      <td>0</td>\n",
       "      <td>1</td>\n",
       "    </tr>\n",
       "    <tr>\n",
       "      <th>1</th>\n",
       "      <td>2023-01-01 01:00:00</td>\n",
       "      <td>0</td>\n",
       "      <td>1</td>\n",
       "    </tr>\n",
       "    <tr>\n",
       "      <th>2</th>\n",
       "      <td>2023-01-01 02:00:00</td>\n",
       "      <td>0</td>\n",
       "      <td>1</td>\n",
       "    </tr>\n",
       "    <tr>\n",
       "      <th>3</th>\n",
       "      <td>2023-01-01 03:00:00</td>\n",
       "      <td>0</td>\n",
       "      <td>1</td>\n",
       "    </tr>\n",
       "    <tr>\n",
       "      <th>4</th>\n",
       "      <td>2023-01-01 04:00:00</td>\n",
       "      <td>0</td>\n",
       "      <td>1</td>\n",
       "    </tr>\n",
       "  </tbody>\n",
       "</table>\n",
       "</div>"
      ],
      "text/plain": [
       "          pickup_hour  rides  pickup_location_id\n",
       "0 2023-01-01 00:00:00      0                   1\n",
       "1 2023-01-01 01:00:00      0                   1\n",
       "2 2023-01-01 02:00:00      0                   1\n",
       "3 2023-01-01 03:00:00      0                   1\n",
       "4 2023-01-01 04:00:00      0                   1"
      ]
     },
     "execution_count": 2,
     "metadata": {},
     "output_type": "execute_result"
    }
   ],
   "source": [
    "# transform raw data into features and target\n",
    "ts_data = transform_raw_data_into_ts_data(rides)\n",
    "ts_data.head()"
   ]
  },
  {
   "cell_type": "code",
   "execution_count": 3,
   "metadata": {},
   "outputs": [
    {
     "name": "stderr",
     "output_type": "stream",
     "text": [
      "  0%|          | 0/265 [00:00<?, ?it/s]"
     ]
    },
    {
     "name": "stderr",
     "output_type": "stream",
     "text": [
      " 28%|██▊       | 73/265 [02:32<06:40,  2.08s/it]\n"
     ]
    },
    {
     "ename": "KeyboardInterrupt",
     "evalue": "",
     "output_type": "error",
     "traceback": [
      "\u001b[0;31m---------------------------------------------------------------------------\u001b[0m",
      "\u001b[0;31mKeyboardInterrupt\u001b[0m                         Traceback (most recent call last)",
      "\u001b[1;32m/Users/carlos/Projects/taxi_demand_predictor/notebooks/04_transform_raw_data_into_features_and_targets.ipynb Cell 4\u001b[0m line \u001b[0;36m2\n\u001b[1;32m      <a href='vscode-notebook-cell:/Users/carlos/Projects/taxi_demand_predictor/notebooks/04_transform_raw_data_into_features_and_targets.ipynb#W3sZmlsZQ%3D%3D?line=0'>1</a>\u001b[0m \u001b[39m# transform ts data into features and target\u001b[39;00m\n\u001b[0;32m----> <a href='vscode-notebook-cell:/Users/carlos/Projects/taxi_demand_predictor/notebooks/04_transform_raw_data_into_features_and_targets.ipynb#W3sZmlsZQ%3D%3D?line=1'>2</a>\u001b[0m features, targets \u001b[39m=\u001b[39m transform_ts_data_into_features_and_target(\n\u001b[1;32m      <a href='vscode-notebook-cell:/Users/carlos/Projects/taxi_demand_predictor/notebooks/04_transform_raw_data_into_features_and_targets.ipynb#W3sZmlsZQ%3D%3D?line=2'>3</a>\u001b[0m     ts_data,\n\u001b[1;32m      <a href='vscode-notebook-cell:/Users/carlos/Projects/taxi_demand_predictor/notebooks/04_transform_raw_data_into_features_and_targets.ipynb#W3sZmlsZQ%3D%3D?line=3'>4</a>\u001b[0m     input_seq_len\u001b[39m=\u001b[39;49m\u001b[39m24\u001b[39;49m\u001b[39m*\u001b[39;49m\u001b[39m28\u001b[39;49m\u001b[39m*\u001b[39;49m\u001b[39m1\u001b[39;49m, \u001b[39m# one month\u001b[39;49;00m\n\u001b[1;32m      <a href='vscode-notebook-cell:/Users/carlos/Projects/taxi_demand_predictor/notebooks/04_transform_raw_data_into_features_and_targets.ipynb#W3sZmlsZQ%3D%3D?line=4'>5</a>\u001b[0m     step_size\u001b[39m=\u001b[39;49m\u001b[39m1\u001b[39;49m,\n\u001b[1;32m      <a href='vscode-notebook-cell:/Users/carlos/Projects/taxi_demand_predictor/notebooks/04_transform_raw_data_into_features_and_targets.ipynb#W3sZmlsZQ%3D%3D?line=5'>6</a>\u001b[0m )\n\u001b[1;32m      <a href='vscode-notebook-cell:/Users/carlos/Projects/taxi_demand_predictor/notebooks/04_transform_raw_data_into_features_and_targets.ipynb#W3sZmlsZQ%3D%3D?line=7'>8</a>\u001b[0m \u001b[39m# check feature and target shapes\u001b[39;00m\n\u001b[1;32m      <a href='vscode-notebook-cell:/Users/carlos/Projects/taxi_demand_predictor/notebooks/04_transform_raw_data_into_features_and_targets.ipynb#W3sZmlsZQ%3D%3D?line=8'>9</a>\u001b[0m \u001b[39mprint\u001b[39m(\u001b[39mf\u001b[39m\u001b[39m'\u001b[39m\u001b[39m{\u001b[39;00mfeatures\u001b[39m.\u001b[39mshape\u001b[39m=}\u001b[39;00m\u001b[39m'\u001b[39m)\n",
      "File \u001b[0;32m~/Projects/taxi_demand_predictor/src/data.py:310\u001b[0m, in \u001b[0;36mtransform_ts_data_into_features_and_target\u001b[0;34m(ts_data, input_seq_len, step_size)\u001b[0m\n\u001b[1;32m    308\u001b[0m     x[i, :] \u001b[39m=\u001b[39m ts_data_one_location\u001b[39m.\u001b[39miloc[idx[\u001b[39m0\u001b[39m]:idx[\u001b[39m1\u001b[39m]][\u001b[39m'\u001b[39m\u001b[39mrides\u001b[39m\u001b[39m'\u001b[39m]\u001b[39m.\u001b[39mvalues\n\u001b[1;32m    309\u001b[0m     y[i] \u001b[39m=\u001b[39m ts_data_one_location\u001b[39m.\u001b[39miloc[idx[\u001b[39m1\u001b[39m]:idx[\u001b[39m2\u001b[39m]][\u001b[39m'\u001b[39m\u001b[39mrides\u001b[39m\u001b[39m'\u001b[39m]\u001b[39m.\u001b[39mvalues\n\u001b[0;32m--> 310\u001b[0m     pickup_hours\u001b[39m.\u001b[39mappend(ts_data_one_location\u001b[39m.\u001b[39;49miloc[idx[\u001b[39m1\u001b[39;49m]][\u001b[39m'\u001b[39m\u001b[39mpickup_hour\u001b[39m\u001b[39m'\u001b[39m])\n\u001b[1;32m    312\u001b[0m \u001b[39m# numpy -> pandas\u001b[39;00m\n\u001b[1;32m    313\u001b[0m features_one_location \u001b[39m=\u001b[39m pd\u001b[39m.\u001b[39mDataFrame(\n\u001b[1;32m    314\u001b[0m     x,\n\u001b[1;32m    315\u001b[0m     columns\u001b[39m=\u001b[39m[\u001b[39mf\u001b[39m\u001b[39m'\u001b[39m\u001b[39mrides_previous_\u001b[39m\u001b[39m{\u001b[39;00mi\u001b[39m+\u001b[39m\u001b[39m1\u001b[39m\u001b[39m}\u001b[39;00m\u001b[39m_hour\u001b[39m\u001b[39m'\u001b[39m \u001b[39mfor\u001b[39;00m i \u001b[39min\u001b[39;00m \u001b[39mreversed\u001b[39m(\u001b[39mrange\u001b[39m(input_seq_len))]\n\u001b[1;32m    316\u001b[0m )\n",
      "File \u001b[0;32m~/Projects/taxi_demand_predictor/.venv/lib/python3.10/site-packages/pandas/core/indexing.py:1073\u001b[0m, in \u001b[0;36m_LocationIndexer.__getitem__\u001b[0;34m(self, key)\u001b[0m\n\u001b[1;32m   1070\u001b[0m axis \u001b[39m=\u001b[39m \u001b[39mself\u001b[39m\u001b[39m.\u001b[39maxis \u001b[39mor\u001b[39;00m \u001b[39m0\u001b[39m\n\u001b[1;32m   1072\u001b[0m maybe_callable \u001b[39m=\u001b[39m com\u001b[39m.\u001b[39mapply_if_callable(key, \u001b[39mself\u001b[39m\u001b[39m.\u001b[39mobj)\n\u001b[0;32m-> 1073\u001b[0m \u001b[39mreturn\u001b[39;00m \u001b[39mself\u001b[39;49m\u001b[39m.\u001b[39;49m_getitem_axis(maybe_callable, axis\u001b[39m=\u001b[39;49maxis)\n",
      "File \u001b[0;32m~/Projects/taxi_demand_predictor/.venv/lib/python3.10/site-packages/pandas/core/indexing.py:1627\u001b[0m, in \u001b[0;36m_iLocIndexer._getitem_axis\u001b[0;34m(self, key, axis)\u001b[0m\n\u001b[1;32m   1624\u001b[0m \u001b[39m# validate the location\u001b[39;00m\n\u001b[1;32m   1625\u001b[0m \u001b[39mself\u001b[39m\u001b[39m.\u001b[39m_validate_integer(key, axis)\n\u001b[0;32m-> 1627\u001b[0m \u001b[39mreturn\u001b[39;00m \u001b[39mself\u001b[39;49m\u001b[39m.\u001b[39;49mobj\u001b[39m.\u001b[39;49m_ixs(key, axis\u001b[39m=\u001b[39;49maxis)\n",
      "File \u001b[0;32m~/Projects/taxi_demand_predictor/.venv/lib/python3.10/site-packages/pandas/core/frame.py:3716\u001b[0m, in \u001b[0;36mDataFrame._ixs\u001b[0;34m(self, i, axis)\u001b[0m\n\u001b[1;32m   3714\u001b[0m \u001b[39m# irow\u001b[39;00m\n\u001b[1;32m   3715\u001b[0m \u001b[39mif\u001b[39;00m axis \u001b[39m==\u001b[39m \u001b[39m0\u001b[39m:\n\u001b[0;32m-> 3716\u001b[0m     new_mgr \u001b[39m=\u001b[39m \u001b[39mself\u001b[39;49m\u001b[39m.\u001b[39;49m_mgr\u001b[39m.\u001b[39;49mfast_xs(i)\n\u001b[1;32m   3718\u001b[0m     \u001b[39m# if we are a copy, mark as such\u001b[39;00m\n\u001b[1;32m   3719\u001b[0m     copy \u001b[39m=\u001b[39m \u001b[39misinstance\u001b[39m(new_mgr\u001b[39m.\u001b[39marray, np\u001b[39m.\u001b[39mndarray) \u001b[39mand\u001b[39;00m new_mgr\u001b[39m.\u001b[39marray\u001b[39m.\u001b[39mbase \u001b[39mis\u001b[39;00m \u001b[39mNone\u001b[39;00m\n",
      "File \u001b[0;32m~/Projects/taxi_demand_predictor/.venv/lib/python3.10/site-packages/pandas/core/internals/managers.py:1097\u001b[0m, in \u001b[0;36mBlockManager.fast_xs\u001b[0;34m(self, loc)\u001b[0m\n\u001b[1;32m   1094\u001b[0m     ref \u001b[39m=\u001b[39m weakref\u001b[39m.\u001b[39mref(\u001b[39mself\u001b[39m\u001b[39m.\u001b[39mblocks[\u001b[39m0\u001b[39m])\n\u001b[1;32m   1095\u001b[0m     \u001b[39mreturn\u001b[39;00m SingleBlockManager(block, \u001b[39mself\u001b[39m\u001b[39m.\u001b[39maxes[\u001b[39m0\u001b[39m], [ref], parent\u001b[39m=\u001b[39m\u001b[39mself\u001b[39m)\n\u001b[0;32m-> 1097\u001b[0m dtype \u001b[39m=\u001b[39m interleaved_dtype([blk\u001b[39m.\u001b[39;49mdtype \u001b[39mfor\u001b[39;49;00m blk \u001b[39min\u001b[39;49;00m \u001b[39mself\u001b[39;49m\u001b[39m.\u001b[39;49mblocks])\n\u001b[1;32m   1099\u001b[0m n \u001b[39m=\u001b[39m \u001b[39mlen\u001b[39m(\u001b[39mself\u001b[39m)\n\u001b[1;32m   1101\u001b[0m \u001b[39m# GH#46406\u001b[39;00m\n",
      "File \u001b[0;32m~/Projects/taxi_demand_predictor/.venv/lib/python3.10/site-packages/pandas/core/internals/base.py:226\u001b[0m, in \u001b[0;36minterleaved_dtype\u001b[0;34m(dtypes)\u001b[0m\n\u001b[1;32m    223\u001b[0m \u001b[39mif\u001b[39;00m \u001b[39mnot\u001b[39;00m \u001b[39mlen\u001b[39m(dtypes):\n\u001b[1;32m    224\u001b[0m     \u001b[39mreturn\u001b[39;00m \u001b[39mNone\u001b[39;00m\n\u001b[0;32m--> 226\u001b[0m \u001b[39mreturn\u001b[39;00m find_common_type(dtypes)\n",
      "File \u001b[0;32m~/Projects/taxi_demand_predictor/.venv/lib/python3.10/site-packages/pandas/core/dtypes/cast.py:1641\u001b[0m, in \u001b[0;36mfind_common_type\u001b[0;34m(types)\u001b[0m\n\u001b[1;32m   1638\u001b[0m         \u001b[39mif\u001b[39;00m is_integer_dtype(t) \u001b[39mor\u001b[39;00m is_float_dtype(t) \u001b[39mor\u001b[39;00m is_complex_dtype(t):\n\u001b[1;32m   1639\u001b[0m             \u001b[39mreturn\u001b[39;00m np\u001b[39m.\u001b[39mdtype(\u001b[39m\"\u001b[39m\u001b[39mobject\u001b[39m\u001b[39m\"\u001b[39m)\n\u001b[0;32m-> 1641\u001b[0m \u001b[39mreturn\u001b[39;00m np\u001b[39m.\u001b[39;49mfind_common_type(types, [])\n",
      "File \u001b[0;32m~/Projects/taxi_demand_predictor/.venv/lib/python3.10/site-packages/numpy/core/numerictypes.py:671\u001b[0m, in \u001b[0;36mfind_common_type\u001b[0;34m(array_types, scalar_types)\u001b[0m\n\u001b[1;32m    668\u001b[0m array_types \u001b[39m=\u001b[39m [dtype(x) \u001b[39mfor\u001b[39;00m x \u001b[39min\u001b[39;00m array_types]\n\u001b[1;32m    669\u001b[0m scalar_types \u001b[39m=\u001b[39m [dtype(x) \u001b[39mfor\u001b[39;00m x \u001b[39min\u001b[39;00m scalar_types]\n\u001b[0;32m--> 671\u001b[0m maxa \u001b[39m=\u001b[39m _can_coerce_all(array_types)\n\u001b[1;32m    672\u001b[0m maxsc \u001b[39m=\u001b[39m _can_coerce_all(scalar_types)\n\u001b[1;32m    674\u001b[0m \u001b[39mif\u001b[39;00m maxa \u001b[39mis\u001b[39;00m \u001b[39mNone\u001b[39;00m:\n",
      "File \u001b[0;32m~/Projects/taxi_demand_predictor/.venv/lib/python3.10/site-packages/numpy/core/numerictypes.py:582\u001b[0m, in \u001b[0;36m_can_coerce_all\u001b[0;34m(dtypelist, start)\u001b[0m\n\u001b[1;32m    580\u001b[0m thisind \u001b[39m=\u001b[39m start\n\u001b[1;32m    581\u001b[0m \u001b[39mwhile\u001b[39;00m thisind \u001b[39m<\u001b[39m __len_test_types:\n\u001b[0;32m--> 582\u001b[0m     newdtype \u001b[39m=\u001b[39m dtype(__test_types[thisind])\n\u001b[1;32m    583\u001b[0m     numcoerce \u001b[39m=\u001b[39m \u001b[39mlen\u001b[39m([x \u001b[39mfor\u001b[39;00m x \u001b[39min\u001b[39;00m dtypelist \u001b[39mif\u001b[39;00m newdtype \u001b[39m>\u001b[39m\u001b[39m=\u001b[39m x])\n\u001b[1;32m    584\u001b[0m     \u001b[39mif\u001b[39;00m numcoerce \u001b[39m==\u001b[39m N:\n",
      "\u001b[0;31mKeyboardInterrupt\u001b[0m: "
     ]
    }
   ],
   "source": [
    "# transform ts data into features and target\n",
    "features, targets = transform_ts_data_into_features_and_target(\n",
    "    ts_data,\n",
    "    input_seq_len=24*28*1, # one month\n",
    "    step_size=1,\n",
    ")\n",
    "\n",
    "# check feature and target shapes\n",
    "print(f'{features.shape=}')\n",
    "print(f'{targets.shape=}')"
   ]
  },
  {
   "cell_type": "code",
   "execution_count": 5,
   "metadata": {},
   "outputs": [],
   "source": [
    "# Consolidate the features and targets into a single DataFrame\n",
    "tabular_data = features\n",
    "tabular_data['target_rides_next_hour'] = targets\n",
    "\n",
    "# Save the consolidated data as a parquet file for future use\n",
    "tabular_data.to_parquet(TRANSFORMED_DATA_DIR / 'tabular_data.parquet')"
   ]
  },
  {
   "cell_type": "code",
   "execution_count": null,
   "metadata": {},
   "outputs": [],
   "source": []
  }
 ],
 "metadata": {
  "kernelspec": {
   "display_name": ".venv",
   "language": "python",
   "name": "python3"
  },
  "language_info": {
   "codemirror_mode": {
    "name": "ipython",
    "version": 3
   },
   "file_extension": ".py",
   "mimetype": "text/x-python",
   "name": "python",
   "nbconvert_exporter": "python",
   "pygments_lexer": "ipython3",
   "version": "3.10.0"
  },
  "orig_nbformat": 4
 },
 "nbformat": 4,
 "nbformat_minor": 2
}
