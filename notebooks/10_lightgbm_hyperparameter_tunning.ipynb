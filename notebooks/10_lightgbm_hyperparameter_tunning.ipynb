{
 "cells": [
  {
   "cell_type": "code",
   "execution_count": 12,
   "metadata": {},
   "outputs": [],
   "source": [
    "import warnings\n",
    "warnings.filterwarnings(\"ignore\")\n",
    "\n",
    "# import libraries\n",
    "from datetime import datetime\n",
    "import pandas as pd\n",
    "import optuna\n",
    "import numpy as np\n",
    "from sklearn.model_selection import TimeSeriesSplit\n",
    "from sklearn.metrics import mean_absolute_error\n",
    "from src.paths import TRANSFORMED_DATA_DIR\n",
    "from src.data_split import train_test_split\n",
    "from src.model import get_pipeline"
   ]
  },
  {
   "cell_type": "code",
   "execution_count": 13,
   "metadata": {},
   "outputs": [
    {
     "data": {
      "text/html": [
       "<div>\n",
       "<style scoped>\n",
       "    .dataframe tbody tr th:only-of-type {\n",
       "        vertical-align: middle;\n",
       "    }\n",
       "\n",
       "    .dataframe tbody tr th {\n",
       "        vertical-align: top;\n",
       "    }\n",
       "\n",
       "    .dataframe thead th {\n",
       "        text-align: right;\n",
       "    }\n",
       "</style>\n",
       "<table border=\"1\" class=\"dataframe\">\n",
       "  <thead>\n",
       "    <tr style=\"text-align: right;\">\n",
       "      <th></th>\n",
       "      <th>rides_previous_672_hour</th>\n",
       "      <th>rides_previous_671_hour</th>\n",
       "      <th>rides_previous_670_hour</th>\n",
       "      <th>rides_previous_669_hour</th>\n",
       "      <th>rides_previous_668_hour</th>\n",
       "      <th>rides_previous_667_hour</th>\n",
       "      <th>rides_previous_666_hour</th>\n",
       "      <th>rides_previous_665_hour</th>\n",
       "      <th>rides_previous_664_hour</th>\n",
       "      <th>rides_previous_663_hour</th>\n",
       "      <th>...</th>\n",
       "      <th>rides_previous_7_hour</th>\n",
       "      <th>rides_previous_6_hour</th>\n",
       "      <th>rides_previous_5_hour</th>\n",
       "      <th>rides_previous_4_hour</th>\n",
       "      <th>rides_previous_3_hour</th>\n",
       "      <th>rides_previous_2_hour</th>\n",
       "      <th>rides_previous_1_hour</th>\n",
       "      <th>pickup_hour</th>\n",
       "      <th>pickup_location_id</th>\n",
       "      <th>target_rides_next_hour</th>\n",
       "    </tr>\n",
       "  </thead>\n",
       "  <tbody>\n",
       "    <tr>\n",
       "      <th>0</th>\n",
       "      <td>0.0</td>\n",
       "      <td>0.0</td>\n",
       "      <td>0.0</td>\n",
       "      <td>0.0</td>\n",
       "      <td>1.0</td>\n",
       "      <td>1.0</td>\n",
       "      <td>0.0</td>\n",
       "      <td>2.0</td>\n",
       "      <td>0.0</td>\n",
       "      <td>0.0</td>\n",
       "      <td>...</td>\n",
       "      <td>2.0</td>\n",
       "      <td>0.0</td>\n",
       "      <td>1.0</td>\n",
       "      <td>0.0</td>\n",
       "      <td>0.0</td>\n",
       "      <td>0.0</td>\n",
       "      <td>0.0</td>\n",
       "      <td>2022-01-29 00:00:00</td>\n",
       "      <td>1</td>\n",
       "      <td>0.0</td>\n",
       "    </tr>\n",
       "    <tr>\n",
       "      <th>1</th>\n",
       "      <td>0.0</td>\n",
       "      <td>0.0</td>\n",
       "      <td>0.0</td>\n",
       "      <td>1.0</td>\n",
       "      <td>1.0</td>\n",
       "      <td>0.0</td>\n",
       "      <td>2.0</td>\n",
       "      <td>0.0</td>\n",
       "      <td>0.0</td>\n",
       "      <td>1.0</td>\n",
       "      <td>...</td>\n",
       "      <td>0.0</td>\n",
       "      <td>1.0</td>\n",
       "      <td>0.0</td>\n",
       "      <td>0.0</td>\n",
       "      <td>0.0</td>\n",
       "      <td>0.0</td>\n",
       "      <td>0.0</td>\n",
       "      <td>2022-01-29 01:00:00</td>\n",
       "      <td>1</td>\n",
       "      <td>0.0</td>\n",
       "    </tr>\n",
       "    <tr>\n",
       "      <th>2</th>\n",
       "      <td>0.0</td>\n",
       "      <td>0.0</td>\n",
       "      <td>1.0</td>\n",
       "      <td>1.0</td>\n",
       "      <td>0.0</td>\n",
       "      <td>2.0</td>\n",
       "      <td>0.0</td>\n",
       "      <td>0.0</td>\n",
       "      <td>1.0</td>\n",
       "      <td>2.0</td>\n",
       "      <td>...</td>\n",
       "      <td>1.0</td>\n",
       "      <td>0.0</td>\n",
       "      <td>0.0</td>\n",
       "      <td>0.0</td>\n",
       "      <td>0.0</td>\n",
       "      <td>0.0</td>\n",
       "      <td>0.0</td>\n",
       "      <td>2022-01-29 02:00:00</td>\n",
       "      <td>1</td>\n",
       "      <td>0.0</td>\n",
       "    </tr>\n",
       "    <tr>\n",
       "      <th>3</th>\n",
       "      <td>0.0</td>\n",
       "      <td>1.0</td>\n",
       "      <td>1.0</td>\n",
       "      <td>0.0</td>\n",
       "      <td>2.0</td>\n",
       "      <td>0.0</td>\n",
       "      <td>0.0</td>\n",
       "      <td>1.0</td>\n",
       "      <td>2.0</td>\n",
       "      <td>1.0</td>\n",
       "      <td>...</td>\n",
       "      <td>0.0</td>\n",
       "      <td>0.0</td>\n",
       "      <td>0.0</td>\n",
       "      <td>0.0</td>\n",
       "      <td>0.0</td>\n",
       "      <td>0.0</td>\n",
       "      <td>0.0</td>\n",
       "      <td>2022-01-29 03:00:00</td>\n",
       "      <td>1</td>\n",
       "      <td>0.0</td>\n",
       "    </tr>\n",
       "    <tr>\n",
       "      <th>4</th>\n",
       "      <td>1.0</td>\n",
       "      <td>1.0</td>\n",
       "      <td>0.0</td>\n",
       "      <td>2.0</td>\n",
       "      <td>0.0</td>\n",
       "      <td>0.0</td>\n",
       "      <td>1.0</td>\n",
       "      <td>2.0</td>\n",
       "      <td>1.0</td>\n",
       "      <td>5.0</td>\n",
       "      <td>...</td>\n",
       "      <td>0.0</td>\n",
       "      <td>0.0</td>\n",
       "      <td>0.0</td>\n",
       "      <td>0.0</td>\n",
       "      <td>0.0</td>\n",
       "      <td>0.0</td>\n",
       "      <td>0.0</td>\n",
       "      <td>2022-01-29 04:00:00</td>\n",
       "      <td>1</td>\n",
       "      <td>0.0</td>\n",
       "    </tr>\n",
       "  </tbody>\n",
       "</table>\n",
       "<p>5 rows × 675 columns</p>\n",
       "</div>"
      ],
      "text/plain": [
       "   rides_previous_672_hour  rides_previous_671_hour  rides_previous_670_hour  \\\n",
       "0                      0.0                      0.0                      0.0   \n",
       "1                      0.0                      0.0                      0.0   \n",
       "2                      0.0                      0.0                      1.0   \n",
       "3                      0.0                      1.0                      1.0   \n",
       "4                      1.0                      1.0                      0.0   \n",
       "\n",
       "   rides_previous_669_hour  rides_previous_668_hour  rides_previous_667_hour  \\\n",
       "0                      0.0                      1.0                      1.0   \n",
       "1                      1.0                      1.0                      0.0   \n",
       "2                      1.0                      0.0                      2.0   \n",
       "3                      0.0                      2.0                      0.0   \n",
       "4                      2.0                      0.0                      0.0   \n",
       "\n",
       "   rides_previous_666_hour  rides_previous_665_hour  rides_previous_664_hour  \\\n",
       "0                      0.0                      2.0                      0.0   \n",
       "1                      2.0                      0.0                      0.0   \n",
       "2                      0.0                      0.0                      1.0   \n",
       "3                      0.0                      1.0                      2.0   \n",
       "4                      1.0                      2.0                      1.0   \n",
       "\n",
       "   rides_previous_663_hour  ...  rides_previous_7_hour  rides_previous_6_hour  \\\n",
       "0                      0.0  ...                    2.0                    0.0   \n",
       "1                      1.0  ...                    0.0                    1.0   \n",
       "2                      2.0  ...                    1.0                    0.0   \n",
       "3                      1.0  ...                    0.0                    0.0   \n",
       "4                      5.0  ...                    0.0                    0.0   \n",
       "\n",
       "   rides_previous_5_hour  rides_previous_4_hour  rides_previous_3_hour  \\\n",
       "0                    1.0                    0.0                    0.0   \n",
       "1                    0.0                    0.0                    0.0   \n",
       "2                    0.0                    0.0                    0.0   \n",
       "3                    0.0                    0.0                    0.0   \n",
       "4                    0.0                    0.0                    0.0   \n",
       "\n",
       "   rides_previous_2_hour  rides_previous_1_hour         pickup_hour  \\\n",
       "0                    0.0                    0.0 2022-01-29 00:00:00   \n",
       "1                    0.0                    0.0 2022-01-29 01:00:00   \n",
       "2                    0.0                    0.0 2022-01-29 02:00:00   \n",
       "3                    0.0                    0.0 2022-01-29 03:00:00   \n",
       "4                    0.0                    0.0 2022-01-29 04:00:00   \n",
       "\n",
       "   pickup_location_id  target_rides_next_hour  \n",
       "0                   1                     0.0  \n",
       "1                   1                     0.0  \n",
       "2                   1                     0.0  \n",
       "3                   1                     0.0  \n",
       "4                   1                     0.0  \n",
       "\n",
       "[5 rows x 675 columns]"
      ]
     },
     "execution_count": 13,
     "metadata": {},
     "output_type": "execute_result"
    }
   ],
   "source": [
    "df = pd.read_parquet(TRANSFORMED_DATA_DIR / \"tabular_data.parquet\")\n",
    "df.head()"
   ]
  },
  {
   "cell_type": "code",
   "execution_count": 14,
   "metadata": {},
   "outputs": [
    {
     "data": {
      "text/plain": [
       "Timestamp('2022-12-31 22:00:00')"
      ]
     },
     "execution_count": 14,
     "metadata": {},
     "output_type": "execute_result"
    }
   ],
   "source": [
    "df.pickup_hour.max()"
   ]
  },
  {
   "cell_type": "code",
   "execution_count": 3,
   "metadata": {},
   "outputs": [
    {
     "name": "stdout",
     "output_type": "stream",
     "text": [
      "X_train shape: (1170240, 674)\n",
      "y_train shape: (1170240,)\n",
      "X_test shape: (972815, 674)\n",
      "y_test shape: (972815,)\n"
     ]
    }
   ],
   "source": [
    "X_train, y_train, X_test, y_test = train_test_split(\n",
    "    df=df,\n",
    "    cutoff_date=datetime(2022, 8, 1, 0, 0),\n",
    "    target_col_name=\"target_rides_next_hour\",\n",
    ")\n",
    "\n",
    "# print shapes of train and test data\n",
    "print(\"X_train shape:\", X_train.shape)\n",
    "print(\"y_train shape:\", y_train.shape)\n",
    "print(\"X_test shape:\", X_test.shape)\n",
    "print(\"y_test shape:\", y_test.shape)"
   ]
  },
  {
   "cell_type": "code",
   "execution_count": 9,
   "metadata": {},
   "outputs": [],
   "source": [
    "def create_objective(X_train, y_train):\n",
    "    def objective(trial: optuna.trial.Trial) -> float:\n",
    "        \"\"\"\n",
    "        Train a model with a set of hyperparameters and compute and validation error based on a TimeSeriesSplit.\n",
    "        \"\"\"\n",
    "        # define hyperparameters to tune\n",
    "        hyperparams = {\n",
    "            \"metric\": \"mae\",\n",
    "            \"verbose\": -1,\n",
    "            \"num_leaves\": trial.suggest_int(\"num_leaves\", 2, 256),\n",
    "            \"feature_fraction\": trial.suggest_float(\"feature_fraction\", 0.2, 1.0),\n",
    "            \"bagging_fraction\": trial.suggest_float(\"bagging_fraction\", 0.2, 1.0),\n",
    "            \"min_child_samples\": trial.suggest_int(\"min_child_samples\", 3, 100),    \n",
    "        }\n",
    "\n",
    "        tss = TimeSeriesSplit(n_splits=2)\n",
    "        scores = []\n",
    "        for train_index, val_index in tss.split(X_train):\n",
    "            X_train_, X_val_ = X_train.iloc[train_index], X_train.iloc[val_index]\n",
    "            y_train_, y_val_ = y_train.iloc[train_index], y_train.iloc[val_index]\n",
    "\n",
    "            # create pipeline\n",
    "            pipeline = get_pipeline(**hyperparams)\n",
    "            pipeline.fit(X_train_, y_train_)\n",
    "\n",
    "            # evaluate the model\n",
    "            y_pred = pipeline.predict(X_val_)\n",
    "            mae = mean_absolute_error(y_val_, y_pred)\n",
    "            scores.append(mae)\n",
    "\n",
    "        # return the mean scores\n",
    "        return np.array(scores).mean()\n",
    "\n",
    "    return objective"
   ]
  },
  {
   "cell_type": "code",
   "execution_count": 10,
   "metadata": {},
   "outputs": [
    {
     "name": "stderr",
     "output_type": "stream",
     "text": [
      "[I 2023-09-30 06:21:05,219] A new study created in memory with name: no-name-c89fb76f-faed-4479-80d0-fbff3f1dc200\n"
     ]
    },
    {
     "name": "stdout",
     "output_type": "stream",
     "text": [
      "[LightGBM] [Warning] bagging_fraction is set=0.8293642062420745, subsample=1.0 will be ignored. Current value: bagging_fraction=0.8293642062420745\n",
      "[LightGBM] [Warning] feature_fraction is set=0.3862504312836544, colsample_bytree=1.0 will be ignored. Current value: feature_fraction=0.3862504312836544\n",
      "[LightGBM] [Warning] bagging_fraction is set=0.8293642062420745, subsample=1.0 will be ignored. Current value: bagging_fraction=0.8293642062420745\n",
      "[LightGBM] [Warning] feature_fraction is set=0.3862504312836544, colsample_bytree=1.0 will be ignored. Current value: feature_fraction=0.3862504312836544\n"
     ]
    },
    {
     "name": "stderr",
     "output_type": "stream",
     "text": [
      "[I 2023-09-30 06:22:42,951] Trial 0 finished with value: 3.072244159382656 and parameters: {'num_leaves': 94, 'feature_fraction': 0.3862504312836544, 'bagging_fraction': 0.8293642062420745, 'min_child_samples': 72}. Best is trial 0 with value: 3.072244159382656.\n"
     ]
    },
    {
     "name": "stdout",
     "output_type": "stream",
     "text": [
      "[LightGBM] [Warning] bagging_fraction is set=0.6948025161038978, subsample=1.0 will be ignored. Current value: bagging_fraction=0.6948025161038978\n",
      "[LightGBM] [Warning] feature_fraction is set=0.9238433765735197, colsample_bytree=1.0 will be ignored. Current value: feature_fraction=0.9238433765735197\n",
      "[LightGBM] [Warning] bagging_fraction is set=0.6948025161038978, subsample=1.0 will be ignored. Current value: bagging_fraction=0.6948025161038978\n",
      "[LightGBM] [Warning] feature_fraction is set=0.9238433765735197, colsample_bytree=1.0 will be ignored. Current value: feature_fraction=0.9238433765735197\n"
     ]
    },
    {
     "name": "stderr",
     "output_type": "stream",
     "text": [
      "[I 2023-09-30 06:24:48,789] Trial 1 finished with value: 3.0837980014182467 and parameters: {'num_leaves': 102, 'feature_fraction': 0.9238433765735197, 'bagging_fraction': 0.6948025161038978, 'min_child_samples': 92}. Best is trial 0 with value: 3.072244159382656.\n"
     ]
    },
    {
     "name": "stdout",
     "output_type": "stream",
     "text": [
      "[LightGBM] [Warning] bagging_fraction is set=0.5544851277021376, subsample=1.0 will be ignored. Current value: bagging_fraction=0.5544851277021376\n",
      "[LightGBM] [Warning] feature_fraction is set=0.5329351850285253, colsample_bytree=1.0 will be ignored. Current value: feature_fraction=0.5329351850285253\n",
      "[LightGBM] [Warning] bagging_fraction is set=0.5544851277021376, subsample=1.0 will be ignored. Current value: bagging_fraction=0.5544851277021376\n",
      "[LightGBM] [Warning] feature_fraction is set=0.5329351850285253, colsample_bytree=1.0 will be ignored. Current value: feature_fraction=0.5329351850285253\n"
     ]
    },
    {
     "name": "stderr",
     "output_type": "stream",
     "text": [
      "[I 2023-09-30 06:27:03,201] Trial 2 finished with value: 3.093753199729105 and parameters: {'num_leaves': 205, 'feature_fraction': 0.5329351850285253, 'bagging_fraction': 0.5544851277021376, 'min_child_samples': 35}. Best is trial 0 with value: 3.072244159382656.\n"
     ]
    },
    {
     "name": "stdout",
     "output_type": "stream",
     "text": [
      "[LightGBM] [Warning] bagging_fraction is set=0.2745847262263166, subsample=1.0 will be ignored. Current value: bagging_fraction=0.2745847262263166\n",
      "[LightGBM] [Warning] feature_fraction is set=0.7099724755493637, colsample_bytree=1.0 will be ignored. Current value: feature_fraction=0.7099724755493637\n",
      "[LightGBM] [Warning] bagging_fraction is set=0.2745847262263166, subsample=1.0 will be ignored. Current value: bagging_fraction=0.2745847262263166\n",
      "[LightGBM] [Warning] feature_fraction is set=0.7099724755493637, colsample_bytree=1.0 will be ignored. Current value: feature_fraction=0.7099724755493637\n"
     ]
    },
    {
     "name": "stderr",
     "output_type": "stream",
     "text": [
      "[I 2023-09-30 06:29:24,019] Trial 3 finished with value: 3.0898218126032306 and parameters: {'num_leaves': 251, 'feature_fraction': 0.7099724755493637, 'bagging_fraction': 0.2745847262263166, 'min_child_samples': 55}. Best is trial 0 with value: 3.072244159382656.\n"
     ]
    },
    {
     "name": "stdout",
     "output_type": "stream",
     "text": [
      "[LightGBM] [Warning] bagging_fraction is set=0.47045698322260165, subsample=1.0 will be ignored. Current value: bagging_fraction=0.47045698322260165\n",
      "[LightGBM] [Warning] feature_fraction is set=0.6187251349221514, colsample_bytree=1.0 will be ignored. Current value: feature_fraction=0.6187251349221514\n",
      "[LightGBM] [Warning] bagging_fraction is set=0.47045698322260165, subsample=1.0 will be ignored. Current value: bagging_fraction=0.47045698322260165\n",
      "[LightGBM] [Warning] feature_fraction is set=0.6187251349221514, colsample_bytree=1.0 will be ignored. Current value: feature_fraction=0.6187251349221514\n"
     ]
    },
    {
     "name": "stderr",
     "output_type": "stream",
     "text": [
      "[I 2023-09-30 06:31:46,805] Trial 4 finished with value: 3.0652738682202063 and parameters: {'num_leaves': 229, 'feature_fraction': 0.6187251349221514, 'bagging_fraction': 0.47045698322260165, 'min_child_samples': 85}. Best is trial 4 with value: 3.0652738682202063.\n"
     ]
    }
   ],
   "source": [
    "study = optuna.create_study(direction=\"minimize\")\n",
    "study.optimize(create_objective(X_train, y_train), n_trials=5)"
   ]
  },
  {
   "cell_type": "code",
   "execution_count": 11,
   "metadata": {},
   "outputs": [
    {
     "name": "stdout",
     "output_type": "stream",
     "text": [
      "best_params={'num_leaves': 229, 'feature_fraction': 0.6187251349221514, 'bagging_fraction': 0.47045698322260165, 'min_child_samples': 85}\n",
      "[LightGBM] [Warning] bagging_fraction is set=0.47045698322260165, subsample=1.0 will be ignored. Current value: bagging_fraction=0.47045698322260165\n",
      "[LightGBM] [Warning] feature_fraction is set=0.6187251349221514, colsample_bytree=1.0 will be ignored. Current value: feature_fraction=0.6187251349221514\n",
      "test_mae=2.5144\n"
     ]
    }
   ],
   "source": [
    "best_params = study.best_trial.params\n",
    "print(f'{best_params=}')\n",
    "\n",
    "pipeline = get_pipeline(**best_params)\n",
    "pipeline.fit(X_train, y_train)\n",
    "\n",
    "predictions = pipeline.predict(X_test)\n",
    "test_mae = mean_absolute_error(y_test, predictions)\n",
    "print(f'{test_mae=:.4f}')"
   ]
  },
  {
   "cell_type": "code",
   "execution_count": null,
   "metadata": {},
   "outputs": [],
   "source": []
  }
 ],
 "metadata": {
  "kernelspec": {
   "display_name": ".venv",
   "language": "python",
   "name": "python3"
  },
  "language_info": {
   "codemirror_mode": {
    "name": "ipython",
    "version": 3
   },
   "file_extension": ".py",
   "mimetype": "text/x-python",
   "name": "python",
   "nbconvert_exporter": "python",
   "pygments_lexer": "ipython3",
   "version": "3.10.0"
  },
  "orig_nbformat": 4
 },
 "nbformat": 4,
 "nbformat_minor": 2
}
